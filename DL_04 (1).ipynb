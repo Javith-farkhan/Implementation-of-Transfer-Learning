{
  "cells": [
    {
      "cell_type": "code",
      "execution_count": 2,
      "metadata": {
        "id": "KlbX61ZknWA9"
      },
      "outputs": [],
      "source": [
        "import tensorflow as tf \n",
        "from tensorflow.keras.datasets import cifar10\n",
        "from tensorflow.keras.applications import VGG19 \n",
        "from tensorflow.keras.models import Sequential\n",
        "from tensorflow.keras.layers import Dense, Flatten, Dropout\n",
        "from tensorflow.keras.optimizers import Adam\n",
        "from tensorflow.keras.callbacks import ReduceLROnPlateau\n",
        "import pandas as pd\n",
        "from sklearn.metrics import classification_report,confusion_matrix\n",
        "import numpy as np"
      ]
    },
    {
      "cell_type": "code",
      "execution_count": 3,
      "metadata": {
        "id": "E0Qqs8a_o0W6",
        "colab": {
          "base_uri": "https://localhost:8080/"
        },
        "outputId": "7dbbd2bc-3ae1-4af6-b672-90b4b74ae459"
      },
      "outputs": [
        {
          "output_type": "stream",
          "name": "stdout",
          "text": [
            "Downloading data from https://www.cs.toronto.edu/~kriz/cifar-10-python.tar.gz\n",
            "170498071/170498071 [==============================] - 13s 0us/step\n"
          ]
        }
      ],
      "source": [
        "(x_train, y_train), (x_test, y_test) = cifar10.load_data ()"
      ]
    },
    {
      "cell_type": "code",
      "execution_count": 4,
      "metadata": {
        "id": "EGn-cYe9o3w6"
      },
      "outputs": [],
      "source": [
        "x_train = x_train.astype('float32') / 255.0\n",
        "x_test = x_test.astype('float32') / 255.0\n",
        "     "
      ]
    },
    {
      "cell_type": "code",
      "execution_count": 5,
      "metadata": {
        "id": "ZNXIh80Qo38O",
        "colab": {
          "base_uri": "https://localhost:8080/"
        },
        "outputId": "6d777334-d7b5-4494-8354-775f2b36c8bc"
      },
      "outputs": [
        {
          "output_type": "stream",
          "name": "stdout",
          "text": [
            "Downloading data from https://storage.googleapis.com/tensorflow/keras-applications/vgg19/vgg19_weights_tf_dim_ordering_tf_kernels_notop.h5\n",
            "80134624/80134624 [==============================] - 4s 0us/step\n"
          ]
        }
      ],
      "source": [
        "base_model=VGG19(include_top=False,weights='imagenet',input_shape=(32,32,3))"
      ]
    },
    {
      "cell_type": "code",
      "execution_count": 6,
      "metadata": {
        "id": "8fU4pDXOo3-w"
      },
      "outputs": [],
      "source": [
        "for layer in base_model.layers:\n",
        "  layer.trainable = False"
      ]
    },
    {
      "cell_type": "code",
      "execution_count": 7,
      "metadata": {
        "id": "mrXYBn4Ro4CV"
      },
      "outputs": [],
      "source": [
        "model = Sequential()\n",
        "model.add(base_model)\n",
        "model.add(Flatten())\n",
        "model.add(Dense (512, activation = 'relu'))\n",
        "model.add(Dropout (0.5))\n",
        "model.add(Dense (10, activation= 'softmax'))"
      ]
    },
    {
      "cell_type": "code",
      "execution_count": 8,
      "metadata": {
        "colab": {
          "base_uri": "https://localhost:8080/"
        },
        "id": "N6vYBIVVqQ2K",
        "outputId": "8e96b1b6-ac30-43fb-d0f5-4701b1e9c75b"
      },
      "outputs": [
        {
          "output_type": "stream",
          "name": "stdout",
          "text": [
            "Model: \"sequential\"\n",
            "_________________________________________________________________\n",
            " Layer (type)                Output Shape              Param #   \n",
            "=================================================================\n",
            " vgg19 (Functional)          (None, 1, 1, 512)         20024384  \n",
            "                                                                 \n",
            " flatten (Flatten)           (None, 512)               0         \n",
            "                                                                 \n",
            " dense (Dense)               (None, 512)               262656    \n",
            "                                                                 \n",
            " dropout (Dropout)           (None, 512)               0         \n",
            "                                                                 \n",
            " dense_1 (Dense)             (None, 10)                5130      \n",
            "                                                                 \n",
            "=================================================================\n",
            "Total params: 20,292,170\n",
            "Trainable params: 267,786\n",
            "Non-trainable params: 20,024,384\n",
            "_________________________________________________________________\n"
          ]
        }
      ],
      "source": [
        "model.summary()"
      ]
    },
    {
      "cell_type": "code",
      "execution_count": 9,
      "metadata": {
        "id": "C0r2G43fqQ4x"
      },
      "outputs": [],
      "source": [
        "model.compile (optimizer = Adam (learning_rate=0.001),loss = 'sparse_categorical_crossentropy',metrics='accuracy')"
      ]
    },
    {
      "cell_type": "code",
      "execution_count": 10,
      "metadata": {
        "id": "xQ-ajmYsqQ7T"
      },
      "outputs": [],
      "source": [
        "learning_rate_reduction = ReduceLROnPlateau (monitor = 'val_accuracy')"
      ]
    },
    {
      "cell_type": "code",
      "execution_count": 11,
      "metadata": {
        "colab": {
          "base_uri": "https://localhost:8080/"
        },
        "id": "2g7-I4cpqQ9l",
        "outputId": "5d446806-b075-4339-efa7-d540ca353df2"
      },
      "outputs": [
        {
          "output_type": "stream",
          "name": "stdout",
          "text": [
            "Epoch 1/15\n",
            "782/782 [==============================] - 23s 17ms/step - loss: 1.5018 - accuracy: 0.4668 - val_loss: 1.3127 - val_accuracy: 0.5375 - lr: 0.0010\n",
            "Epoch 2/15\n",
            "782/782 [==============================] - 13s 16ms/step - loss: 1.3249 - accuracy: 0.5313 - val_loss: 1.2629 - val_accuracy: 0.5493 - lr: 0.0010\n",
            "Epoch 3/15\n",
            "782/782 [==============================] - 13s 16ms/step - loss: 1.2667 - accuracy: 0.5532 - val_loss: 1.2111 - val_accuracy: 0.5749 - lr: 0.0010\n",
            "Epoch 4/15\n",
            "782/782 [==============================] - 13s 16ms/step - loss: 1.2333 - accuracy: 0.5663 - val_loss: 1.1853 - val_accuracy: 0.5824 - lr: 0.0010\n",
            "Epoch 5/15\n",
            "782/782 [==============================] - 13s 17ms/step - loss: 1.2056 - accuracy: 0.5749 - val_loss: 1.1785 - val_accuracy: 0.5874 - lr: 0.0010\n",
            "Epoch 6/15\n",
            "782/782 [==============================] - 14s 17ms/step - loss: 1.1837 - accuracy: 0.5827 - val_loss: 1.1657 - val_accuracy: 0.5878 - lr: 0.0010\n",
            "Epoch 7/15\n",
            "782/782 [==============================] - 13s 17ms/step - loss: 1.1611 - accuracy: 0.5925 - val_loss: 1.1578 - val_accuracy: 0.5945 - lr: 0.0010\n",
            "Epoch 8/15\n",
            "782/782 [==============================] - 13s 17ms/step - loss: 1.1416 - accuracy: 0.5968 - val_loss: 1.1683 - val_accuracy: 0.5921 - lr: 0.0010\n",
            "Epoch 9/15\n",
            "782/782 [==============================] - 14s 17ms/step - loss: 1.1310 - accuracy: 0.6008 - val_loss: 1.1343 - val_accuracy: 0.6016 - lr: 0.0010\n",
            "Epoch 10/15\n",
            "782/782 [==============================] - 14s 18ms/step - loss: 1.1174 - accuracy: 0.6079 - val_loss: 1.1433 - val_accuracy: 0.6016 - lr: 0.0010\n",
            "Epoch 11/15\n",
            "782/782 [==============================] - 13s 17ms/step - loss: 1.0959 - accuracy: 0.6149 - val_loss: 1.1357 - val_accuracy: 0.6032 - lr: 0.0010\n",
            "Epoch 12/15\n",
            "782/782 [==============================] - 14s 17ms/step - loss: 1.0873 - accuracy: 0.6153 - val_loss: 1.1139 - val_accuracy: 0.6093 - lr: 0.0010\n",
            "Epoch 13/15\n",
            "782/782 [==============================] - 14s 17ms/step - loss: 1.0728 - accuracy: 0.6214 - val_loss: 1.1159 - val_accuracy: 0.6094 - lr: 0.0010\n",
            "Epoch 14/15\n",
            "782/782 [==============================] - 14s 17ms/step - loss: 1.0631 - accuracy: 0.6247 - val_loss: 1.1140 - val_accuracy: 0.6084 - lr: 0.0010\n",
            "Epoch 15/15\n",
            "782/782 [==============================] - 13s 17ms/step - loss: 1.0502 - accuracy: 0.6269 - val_loss: 1.1140 - val_accuracy: 0.6116 - lr: 0.0010\n"
          ]
        },
        {
          "output_type": "execute_result",
          "data": {
            "text/plain": [
              "<keras.callbacks.History at 0x7f368cb38e50>"
            ]
          },
          "metadata": {},
          "execution_count": 11
        }
      ],
      "source": [
        "model.fit(x_train, y_train, batch_size=64, epochs=15, validation_data=(x_test, y_test), callbacks=[learning_rate_reduction])"
      ]
    },
    {
      "cell_type": "code",
      "execution_count": 12,
      "metadata": {
        "id": "XtzmHwHiqQ_6"
      },
      "outputs": [],
      "source": [
        "metrics = pd.DataFrame(model.history.history)"
      ]
    },
    {
      "cell_type": "code",
      "execution_count": 13,
      "metadata": {
        "colab": {
          "base_uri": "https://localhost:8080/",
          "height": 447
        },
        "id": "tHL2fTxYqRCI",
        "outputId": "84924f12-af4f-426f-95b1-aa4a247a1316"
      },
      "outputs": [
        {
          "output_type": "execute_result",
          "data": {
            "text/plain": [
              "<Axes: >"
            ]
          },
          "metadata": {},
          "execution_count": 13
        },
        {
          "output_type": "display_data",
          "data": {
            "text/plain": [
              "<Figure size 640x480 with 1 Axes>"
            ],
            "image/png": "[encoded data removed]"
          },
          "metadata": {}
        }
      ],
      "source": [
        "metrics[['loss','val_loss']].plot()"
      ]
    },
    {
      "cell_type": "code",
      "execution_count": 14,
      "metadata": {
        "colab": {
          "base_uri": "https://localhost:8080/",
          "height": 447
        },
        "id": "x9GRldY7qRFd",
        "outputId": "41a0b5b8-f8c7-4b63-f894-7d4940257674"
      },
      "outputs": [
        {
          "output_type": "execute_result",
          "data": {
            "text/plain": [
              "<Axes: >"
            ]
          },
          "metadata": {},
          "execution_count": 14
        },
        {
          "output_type": "display_data",
          "data": {
            "text/plain": [
              "<Figure size 640x480 with 1 Axes>"
            ],
            "image/png": "[encoded data removed]"
          },
          "metadata": {}
        }
      ],
      "source": [
        "metrics[['accuracy','val_accuracy']].plot()"
      ]
    },
    {
      "cell_type": "code",
      "execution_count": 15,
      "metadata": {
        "id": "LctjrZ1PQnB8",
        "colab": {
          "base_uri": "https://localhost:8080/"
        },
        "outputId": "8f4fdf16-5829-4f13-fc14-da0752905fd3"
      },
      "outputs": [
        {
          "output_type": "stream",
          "name": "stdout",
          "text": [
            "313/313 [==============================] - 3s 9ms/step\n"
          ]
        }
      ],
      "source": [
        "x_test_predictions = np.argmax(model.predict(x_test), axis=1)"
      ]
    },
    {
      "cell_type": "code",
      "execution_count": 16,
      "metadata": {
        "colab": {
          "base_uri": "https://localhost:8080/"
        },
        "id": "UYh6bWxuqxEu",
        "outputId": "0868aaa7-5990-4abd-a7db-14a0c12048e8"
      },
      "outputs": [
        {
          "output_type": "stream",
          "name": "stdout",
          "text": [
            "[[681  24  53  32  16   9  16  22  86  61]\n",
            " [ 27 660  17  54   7  10  27  13  26 159]\n",
            " [ 65  22 503  92  82  69 100  30  17  20]\n",
            " [ 23  37  55 540  40 114  95  32  14  50]\n",
            " [ 21  13  75 120 501  41  86 103  21  19]\n",
            " [ 10  23  54 248  47 477  57  51   3  30]\n",
            " [  9  16  48  80  67  35 715   9   8  13]\n",
            " [ 14  11  53  66  54  73  25 654   3  47]\n",
            " [ 83  65  17  46   9   1   7  12 668  92]\n",
            " [ 29 104   7  52   8   8  21  26  28 717]]\n"
          ]
        }
      ],
      "source": [
        "print(confusion_matrix(y_test,x_test_predictions))"
      ]
    },
    {
      "cell_type": "code",
      "execution_count": 17,
      "metadata": {
        "id": "7PAPzZopv334",
        "colab": {
          "base_uri": "https://localhost:8080/"
        },
        "outputId": "798512f7-1d7b-46f0-e902-dd4ba661dd63"
      },
      "outputs": [
        {
          "output_type": "stream",
          "name": "stdout",
          "text": [
            "              precision    recall  f1-score   support\n",
            "\n",
            "           0       0.71      0.68      0.69      1000\n",
            "           1       0.68      0.66      0.67      1000\n",
            "           2       0.57      0.50      0.53      1000\n",
            "           3       0.41      0.54      0.46      1000\n",
            "           4       0.60      0.50      0.55      1000\n",
            "           5       0.57      0.48      0.52      1000\n",
            "           6       0.62      0.71      0.67      1000\n",
            "           7       0.69      0.65      0.67      1000\n",
            "           8       0.76      0.67      0.71      1000\n",
            "           9       0.59      0.72      0.65      1000\n",
            "\n",
            "    accuracy                           0.61     10000\n",
            "   macro avg       0.62      0.61      0.61     10000\n",
            "weighted avg       0.62      0.61      0.61     10000\n",
            "\n"
          ]
        }
      ],
      "source": [
        "print(classification_report(y_test,x_test_predictions))"
      ]
    },
    {
      "cell_type": "code",
      "source": [],
      "metadata": {
        "id": "7kK3EG1gomEH"
      },
      "execution_count": null,
      "outputs": []
    }
  ],
  "metadata": {
    "accelerator": "GPU",
    "colab": {
      "provenance": [],
      "gpuType": "T4"
    },
    "kernelspec": {
      "display_name": "Python 3",
      "name": "python3"
    },
    "language_info": {
      "name": "python"
    }
  },
  "nbformat": 4,
  "nbformat_minor": 0
}